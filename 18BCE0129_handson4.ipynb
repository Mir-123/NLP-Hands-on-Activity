{
  "nbformat": 4,
  "nbformat_minor": 0,
  "metadata": {
    "kernelspec": {
      "display_name": "Python 3",
      "language": "python",
      "name": "python3"
    },
    "language_info": {
      "codemirror_mode": {
        "name": "ipython",
        "version": 3
      },
      "file_extension": ".py",
      "mimetype": "text/x-python",
      "name": "python",
      "nbconvert_exporter": "python",
      "pygments_lexer": "ipython3",
      "version": "3.7.6"
    },
    "colab": {
      "name": "18BCE0129_handson4.ipynb",
      "provenance": []
    }
  },
  "cells": [
    {
      "cell_type": "code",
      "metadata": {
        "id": "6X9RsgC-kt56"
      },
      "source": [
        "#Task 1 Simple Text Classification\n",
        "def gender_features(word):\n",
        "    return{'last_letter': word[-1]}"
      ],
      "execution_count": 1,
      "outputs": []
    },
    {
      "cell_type": "code",
      "metadata": {
        "id": "rn3CEpd6kt6E",
        "outputId": "d49e26ce-8a0c-4833-dee8-2d40ff0c2db9",
        "colab": {
          "base_uri": "https://localhost:8080/"
        }
      },
      "source": [
        "gender_features(\"Obama\")"
      ],
      "execution_count": 2,
      "outputs": [
        {
          "output_type": "execute_result",
          "data": {
            "text/plain": [
              "{'last_letter': 'a'}"
            ]
          },
          "metadata": {
            "tags": []
          },
          "execution_count": 2
        }
      ]
    },
    {
      "cell_type": "code",
      "metadata": {
        "id": "EHthv1rfkt6K"
      },
      "source": [
        "from nltk.corpus import names"
      ],
      "execution_count": 3,
      "outputs": []
    },
    {
      "cell_type": "code",
      "metadata": {
        "id": "ZUbX1CG2yEua",
        "outputId": "4a88e4dc-6e72-46b2-c6c9-c5dc6a5244d4",
        "colab": {
          "base_uri": "https://localhost:8080/"
        }
      },
      "source": [
        "import nltk\n",
        "nltk.download('names')"
      ],
      "execution_count": 5,
      "outputs": [
        {
          "output_type": "stream",
          "text": [
            "[nltk_data] Downloading package names to /root/nltk_data...\n",
            "[nltk_data]   Unzipping corpora/names.zip.\n"
          ],
          "name": "stdout"
        },
        {
          "output_type": "execute_result",
          "data": {
            "text/plain": [
              "True"
            ]
          },
          "metadata": {
            "tags": []
          },
          "execution_count": 5
        }
      ]
    },
    {
      "cell_type": "code",
      "metadata": {
        "id": "CXtwEcdJkt6P"
      },
      "source": [
        "labeled_names = ([(name,'male')for name in names.words('male.txt')])+([(name,'female')for name in names.words('female.txt')])"
      ],
      "execution_count": 6,
      "outputs": []
    },
    {
      "cell_type": "code",
      "metadata": {
        "id": "J6Y0GJVlkt6T"
      },
      "source": [
        "import random\n",
        "random.shuffle(labeled_names)\n",
        "featuresets = [(gender_features(n),gender) for (n,gender) in labeled_names]"
      ],
      "execution_count": 7,
      "outputs": []
    },
    {
      "cell_type": "code",
      "metadata": {
        "id": "9Ogn3NCpkt6Y"
      },
      "source": [
        "train_set,test_set = featuresets[5000:], featuresets[:2000]\n",
        "import nltk\n",
        "classifier = nltk.NaiveBayesClassifier.train(train_set)"
      ],
      "execution_count": 8,
      "outputs": []
    },
    {
      "cell_type": "code",
      "metadata": {
        "id": "ysoODaH0kt6f",
        "outputId": "be3f49c7-64eb-4c16-dcee-0cbca8ce43c7",
        "colab": {
          "base_uri": "https://localhost:8080/",
          "height": 35
        }
      },
      "source": [
        "classifier.classify(gender_features('Kate'))"
      ],
      "execution_count": 9,
      "outputs": [
        {
          "output_type": "execute_result",
          "data": {
            "application/vnd.google.colaboratory.intrinsic+json": {
              "type": "string"
            },
            "text/plain": [
              "'female'"
            ]
          },
          "metadata": {
            "tags": []
          },
          "execution_count": 9
        }
      ]
    },
    {
      "cell_type": "code",
      "metadata": {
        "id": "rO1CtqKKkt6s",
        "outputId": "d2affb75-db65-4831-ad2d-b8de4888f502",
        "colab": {
          "base_uri": "https://localhost:8080/",
          "height": 35
        }
      },
      "source": [
        "classifier.classify(gender_features('Hanks'))"
      ],
      "execution_count": 10,
      "outputs": [
        {
          "output_type": "execute_result",
          "data": {
            "application/vnd.google.colaboratory.intrinsic+json": {
              "type": "string"
            },
            "text/plain": [
              "'male'"
            ]
          },
          "metadata": {
            "tags": []
          },
          "execution_count": 10
        }
      ]
    },
    {
      "cell_type": "code",
      "metadata": {
        "id": "2s5YHJopkt6j",
        "outputId": "8630d3b0-fcd9-4451-fedb-b6ac8efee4fb",
        "colab": {
          "base_uri": "https://localhost:8080/",
          "height": 35
        }
      },
      "source": [
        "classifier.classify(gender_features('Lana'))"
      ],
      "execution_count": 11,
      "outputs": [
        {
          "output_type": "execute_result",
          "data": {
            "application/vnd.google.colaboratory.intrinsic+json": {
              "type": "string"
            },
            "text/plain": [
              "'female'"
            ]
          },
          "metadata": {
            "tags": []
          },
          "execution_count": 11
        }
      ]
    },
    {
      "cell_type": "code",
      "metadata": {
        "id": "rb0HEwbTkt6v",
        "outputId": "d6b9f4f3-8b26-400f-da1e-03ba60341160",
        "colab": {
          "base_uri": "https://localhost:8080/",
          "height": 35
        }
      },
      "source": [
        "classifier.classify(gender_features('Christopher'))"
      ],
      "execution_count": 12,
      "outputs": [
        {
          "output_type": "execute_result",
          "data": {
            "application/vnd.google.colaboratory.intrinsic+json": {
              "type": "string"
            },
            "text/plain": [
              "'male'"
            ]
          },
          "metadata": {
            "tags": []
          },
          "execution_count": 12
        }
      ]
    },
    {
      "cell_type": "code",
      "metadata": {
        "id": "Ccdi16Kakt6o",
        "outputId": "54edfff1-226f-4a2a-b6c7-f38b56506772",
        "colab": {
          "base_uri": "https://localhost:8080/",
          "height": 35
        }
      },
      "source": [
        "classifier.classify(gender_features('Dani'))"
      ],
      "execution_count": 13,
      "outputs": [
        {
          "output_type": "execute_result",
          "data": {
            "application/vnd.google.colaboratory.intrinsic+json": {
              "type": "string"
            },
            "text/plain": [
              "'female'"
            ]
          },
          "metadata": {
            "tags": []
          },
          "execution_count": 13
        }
      ]
    },
    {
      "cell_type": "code",
      "metadata": {
        "id": "AHbzZO9ikt6z",
        "outputId": "57315ec8-e05e-4e41-89dd-ca6c2edef368",
        "colab": {
          "base_uri": "https://localhost:8080/",
          "height": 35
        }
      },
      "source": [
        "classifier.classify(gender_features('DiCaprio'))"
      ],
      "execution_count": 14,
      "outputs": [
        {
          "output_type": "execute_result",
          "data": {
            "application/vnd.google.colaboratory.intrinsic+json": {
              "type": "string"
            },
            "text/plain": [
              "'male'"
            ]
          },
          "metadata": {
            "tags": []
          },
          "execution_count": 14
        }
      ]
    },
    {
      "cell_type": "code",
      "metadata": {
        "id": "QWLsTGOOkt66",
        "outputId": "76f1150d-ebb0-40e3-fd77-a9164ed69321",
        "colab": {
          "base_uri": "https://localhost:8080/"
        }
      },
      "source": [
        "print(nltk.classify.accuracy(classifier,test_set))"
      ],
      "execution_count": 17,
      "outputs": [
        {
          "output_type": "stream",
          "text": [
            "0.7685\n"
          ],
          "name": "stdout"
        }
      ]
    },
    {
      "cell_type": "code",
      "metadata": {
        "id": "5NaEL3_jkt7D"
      },
      "source": [
        "# Task Count Vectorizer\n",
        "from sklearn.feature_extraction.text import CountVectorizer\n",
        "vect = CountVectorizer(binary = True)\n",
        "corpus = [\"Mikhail Tal was a Soviet chess player and the eighth World Chess Champion\",\"Garry Kasparov was also a Soviet chess player and the World Chess Champion\"]"
      ],
      "execution_count": 26,
      "outputs": []
    },
    {
      "cell_type": "code",
      "metadata": {
        "id": "Cg-coxX4kt7M",
        "outputId": "8c67b7e8-bb47-4a9c-e653-0ddaee0e3397",
        "colab": {
          "base_uri": "https://localhost:8080/"
        }
      },
      "source": [
        "vect.fit(corpus)"
      ],
      "execution_count": 27,
      "outputs": [
        {
          "output_type": "execute_result",
          "data": {
            "text/plain": [
              "CountVectorizer(analyzer='word', binary=True, decode_error='strict',\n",
              "                dtype=<class 'numpy.int64'>, encoding='utf-8', input='content',\n",
              "                lowercase=True, max_df=1.0, max_features=None, min_df=1,\n",
              "                ngram_range=(1, 1), preprocessor=None, stop_words=None,\n",
              "                strip_accents=None, token_pattern='(?u)\\\\b\\\\w\\\\w+\\\\b',\n",
              "                tokenizer=None, vocabulary=None)"
            ]
          },
          "metadata": {
            "tags": []
          },
          "execution_count": 27
        }
      ]
    },
    {
      "cell_type": "code",
      "metadata": {
        "id": "_w1VBHPskt7U",
        "outputId": "b048475b-4ebe-4611-feb0-22339c9cf4bb",
        "colab": {
          "base_uri": "https://localhost:8080/"
        }
      },
      "source": [
        "vocab = vect.vocabulary_\n",
        "for key in sorted(vocab.keys()):\n",
        "    print(\"{}:{}\".format(key, vocab[key]))"
      ],
      "execution_count": 28,
      "outputs": [
        {
          "output_type": "stream",
          "text": [
            "also:0\n",
            "and:1\n",
            "champion:2\n",
            "chess:3\n",
            "eighth:4\n",
            "garry:5\n",
            "kasparov:6\n",
            "mikhail:7\n",
            "player:8\n",
            "soviet:9\n",
            "tal:10\n",
            "the:11\n",
            "was:12\n",
            "world:13\n"
          ],
          "name": "stdout"
        }
      ]
    },
    {
      "cell_type": "code",
      "metadata": {
        "id": "kX7vwIh0kt7Y",
        "outputId": "eab2ca66-f26d-4b2a-a511-e9a79c96b2bc",
        "colab": {
          "base_uri": "https://localhost:8080/"
        }
      },
      "source": [
        "print(vect.transform([\"Vishy is the greatest Indian World Chess Champion, He defeated many Sovient Chess Players including Kasparov\"]).toarray())"
      ],
      "execution_count": 29,
      "outputs": [
        {
          "output_type": "stream",
          "text": [
            "[[0 0 1 1 0 0 1 0 0 0 0 1 0 1]]\n"
          ],
          "name": "stdout"
        }
      ]
    },
    {
      "cell_type": "code",
      "metadata": {
        "id": "nW0TCJXHkt7b",
        "outputId": "335d21cc-228e-4e17-fa44-c67a12322334",
        "colab": {
          "base_uri": "https://localhost:8080/"
        }
      },
      "source": [
        "#Finding Similarity between the Documents\n",
        "from sklearn.metrics.pairwise import cosine_similarity\n",
        "similarity = cosine_similarity(vect.transform([\"Bobby Fischer is an American Chess player\"]).toarray(),vect.transform([\"Bobby had the highest rating of all time among the chess players\"]).toarray())\n",
        "print(similarity)"
      ],
      "execution_count": 30,
      "outputs": [
        {
          "output_type": "stream",
          "text": [
            "[[0.5]]\n"
          ],
          "name": "stdout"
        }
      ]
    }
  ]
}