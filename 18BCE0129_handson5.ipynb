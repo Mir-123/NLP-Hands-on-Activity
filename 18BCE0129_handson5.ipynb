{
  "nbformat": 4,
  "nbformat_minor": 0,
  "metadata": {
    "colab": {
      "name": "18BCE0129_handson5.ipynb",
      "provenance": [],
      "collapsed_sections": []
    },
    "kernelspec": {
      "display_name": "Python 3",
      "language": "python",
      "name": "python3"
    },
    "language_info": {
      "codemirror_mode": {
        "name": "ipython",
        "version": 3
      },
      "file_extension": ".py",
      "mimetype": "text/x-python",
      "name": "python",
      "nbconvert_exporter": "python",
      "pygments_lexer": "ipython3",
      "version": "3.7.6"
    }
  },
  "cells": [
    {
      "cell_type": "code",
      "metadata": {
        "id": "FFbO7TXkf5Yj"
      },
      "source": [
        "import spacy"
      ],
      "execution_count": 2,
      "outputs": []
    },
    {
      "cell_type": "code",
      "metadata": {
        "id": "20gRLkF7f_9Y"
      },
      "source": [
        "model = spacy.load('en_core_web_sm')"
      ],
      "execution_count": 3,
      "outputs": []
    },
    {
      "cell_type": "code",
      "metadata": {
        "id": "SCHbXQU9hfya"
      },
      "source": [
        "text1 = \"\"\"FAANG is an acronym referring to the stocks of the five most popular and best-performing American technology companies: Facebook, Amazon, Apple, Netflix and Alphabet (formerly known as Google)\"\"\""
      ],
      "execution_count": 4,
      "outputs": []
    },
    {
      "cell_type": "code",
      "metadata": {
        "id": "cOthq387g9Ks"
      },
      "source": [
        "doc1 = model(text1)"
      ],
      "execution_count": 5,
      "outputs": []
    },
    {
      "cell_type": "code",
      "metadata": {
        "id": "Y5xtd-iFh60d",
        "outputId": "8645977f-9919-4ae5-bfd2-3f12206fc743",
        "colab": {
          "base_uri": "https://localhost:8080/"
        }
      },
      "source": [
        "for ent in doc1.ents:\n",
        "  print(ent.text, ent.label_)"
      ],
      "execution_count": 6,
      "outputs": [
        {
          "output_type": "stream",
          "text": [
            "FAANG ORG\n",
            "five CARDINAL\n",
            "American NORP\n",
            "Amazon ORG\n",
            "Apple ORG\n",
            "Netflix GPE\n",
            "Alphabet PERSON\n",
            "Google ORG\n"
          ],
          "name": "stdout"
        }
      ]
    },
    {
      "cell_type": "code",
      "metadata": {
        "id": "z-scpcaPh--w",
        "outputId": "3962c45f-d896-463e-a51e-c591acf1b509",
        "colab": {
          "base_uri": "https://localhost:8080/"
        }
      },
      "source": [
        "text2 = \"\"\"And Eurypylus, son of Euaemon, killed Hypsenor, the son of noble Dolopion, who had been made priest of the river Scamander, and was honoured among the people as though he were a god. Eurypylus gave him chase as he was flying before him, smote him with his sword upon the arm, and lopped his strong hand from off it. The bloody hand fell to the ground, and the shades of death, with fate that no man can withstand, came over his eyes. Thus furiously did the battle rage between them. As for the son of Tydeus, you could not say whether he was more among the Achaeans or the Trojans. He rushed across the plain like a winter torrent that has burst its barrier in full flood; no dykes, no walls of fruitful vineyards can embank it when it is swollen with rain from heaven, but in a moment it comes tearing onward, and lays many a field waste that many a strong man hand has reclaimed- even so were the dense phalanxes of the Trojans driven in rout by the son of Tydeus, and many though they were, they dared not abide his onslaught.\"\"\"\n",
        "\n",
        "doc2 = model(text2)\n",
        "\n",
        "for ent in doc2.ents:\n",
        "  print(ent.text, ent.label_)"
      ],
      "execution_count": 7,
      "outputs": [
        {
          "output_type": "stream",
          "text": [
            "Hypsenor PERSON\n",
            "Dolopion FAC\n",
            "Scamander PRODUCT\n",
            "Tydeus PERSON\n",
            "Achaeans NORP\n",
            "Trojans NORP\n",
            "winter DATE\n",
            "Trojans NORP\n",
            "Tydeus PERSON\n"
          ],
          "name": "stdout"
        }
      ]
    },
    {
      "cell_type": "code",
      "metadata": {
        "id": "epJfgFFBjOJA"
      },
      "source": [
        "text3 = \"\"\"In California, Jeff Lee is a first-year business-school student at Stanford with a Yale law degree. On the other side of the world, he’s teaching beautiful women how to win the most prestigious pageant title in the cosmos.\"\"\""
      ],
      "execution_count": 8,
      "outputs": []
    },
    {
      "cell_type": "code",
      "metadata": {
        "id": "Y2PhZe-FkOkN",
        "outputId": "77f46356-976d-458e-832a-bf46808f0cf4",
        "colab": {
          "base_uri": "https://localhost:8080/"
        }
      },
      "source": [
        "doc3 = model(text3)\n",
        "\n",
        "for ent in doc3.ents:\n",
        "  print(ent.text, ent.label_)"
      ],
      "execution_count": 9,
      "outputs": [
        {
          "output_type": "stream",
          "text": [
            "California GPE\n",
            "Jeff Lee PERSON\n",
            "first-year DATE\n",
            "Stanford ORG\n",
            "Yale ORG\n"
          ],
          "name": "stdout"
        }
      ]
    },
    {
      "cell_type": "code",
      "metadata": {
        "id": "BYldQy6nkSnh",
        "outputId": "05fc6903-a967-4fd6-a61c-00b18034412f",
        "colab": {
          "base_uri": "https://localhost:8080/"
        }
      },
      "source": [
        "text4 = \"\"\"Drake, a former senior executive at the National Security Agency, faces some of the gravest charges that can be brought against an American citizen.\"\"\"\n",
        "\n",
        "doc4 = model(text4)\n",
        "\n",
        "for ent in doc4.ents:\n",
        "  print(ent.text, ent.label_)"
      ],
      "execution_count": 10,
      "outputs": [
        {
          "output_type": "stream",
          "text": [
            "the National Security Agency ORG\n",
            "American NORP\n"
          ],
          "name": "stdout"
        }
      ]
    },
    {
      "cell_type": "code",
      "metadata": {
        "id": "BIPqUjBDl4WI",
        "outputId": "56edbba6-9338-4d5b-e2f3-2c388aab9016",
        "colab": {
          "base_uri": "https://localhost:8080/"
        }
      },
      "source": [
        "text5 = \"\"\"Khabib Nurmagomedov retired in his last match against Gaethje. He lost the biggest inpiration of his life his father a few days before this match. His mother asked him not to fight anymore without his father on his side. He promised her that it would be his last match and will be dedicated to his father. He went into the octagon with a broken toe, but still won.\"\"\"\n",
        "\n",
        "doc5 = model(text5)\n",
        "\n",
        "for ent in doc5.ents:\n",
        "  print(ent.text, ent.label_)"
      ],
      "execution_count": 14,
      "outputs": [
        {
          "output_type": "stream",
          "text": [
            "Khabib Nurmagomedov PERSON\n",
            "Gaethje PERSON\n",
            "a few days DATE\n",
            "octagon GPE\n"
          ],
          "name": "stdout"
        }
      ]
    },
    {
      "cell_type": "code",
      "metadata": {
        "id": "JgEKeXP0mLO8",
        "outputId": "dd975ce2-8711-4fc8-982e-5369aa694491",
        "colab": {
          "base_uri": "https://localhost:8080/"
        }
      },
      "source": [
        "text6 = \"\"\"Mirzapur is an action crime thriller web television series on Amazon Prime Video produced by Excel Entertainment. The series is primarily shot in Mirzapur, with some shots in Jaunpur, Azamgarh, Ghazipur, Lucknow, Raebareli, Gorakhpur and Varanasi. It revolves around drugs, guns, murders and lawlessness.\"\"\"\n",
        "\n",
        "doc6 = model(text6)\n",
        "\n",
        "for ent in doc6.ents:\n",
        "  print(ent.text, ent.label_)"
      ],
      "execution_count": 12,
      "outputs": [
        {
          "output_type": "stream",
          "text": [
            "Mirzapur GPE\n",
            "Amazon ORG\n",
            "Excel Entertainment ORG\n",
            "Mirzapur GPE\n",
            "Jaunpur GPE\n",
            "Azamgarh GPE\n",
            "Ghazipur GPE\n",
            "Lucknow GPE\n",
            "Raebareli GPE\n",
            "Gorakhpur GPE\n",
            "Varanasi GPE\n"
          ],
          "name": "stdout"
        }
      ]
    }
  ]
}