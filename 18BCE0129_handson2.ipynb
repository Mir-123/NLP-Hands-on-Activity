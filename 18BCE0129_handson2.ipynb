{
  "nbformat": 4,
  "nbformat_minor": 0,
  "metadata": {
    "kernelspec": {
      "display_name": "Python 3",
      "language": "python",
      "name": "python3"
    },
    "language_info": {
      "codemirror_mode": {
        "name": "ipython",
        "version": 3
      },
      "file_extension": ".py",
      "mimetype": "text/x-python",
      "name": "python",
      "nbconvert_exporter": "python",
      "pygments_lexer": "ipython3",
      "version": "3.7.6"
    },
    "colab": {
      "name": "18BCE0129_handson2.ipynb",
      "provenance": []
    }
  },
  "cells": [
    {
      "cell_type": "code",
      "metadata": {
        "id": "Obq8tyPVbqJg"
      },
      "source": [
        "from nltk.corpus import stopwords"
      ],
      "execution_count": 1,
      "outputs": []
    },
    {
      "cell_type": "code",
      "metadata": {
        "id": "w8uOTd-WbqJu",
        "outputId": "cef35310-aa89-445b-bb17-b986b53bc0d2",
        "colab": {
          "base_uri": "https://localhost:8080/"
        }
      },
      "source": [
        "import nltk\n",
        "nltk.download('cmudict')\n",
        "entries = nltk.corpus.cmudict.entries()\n",
        "len(entries)"
      ],
      "execution_count": 3,
      "outputs": [
        {
          "output_type": "stream",
          "text": [
            "[nltk_data] Downloading package cmudict to /root/nltk_data...\n",
            "[nltk_data]   Unzipping corpora/cmudict.zip.\n"
          ],
          "name": "stdout"
        },
        {
          "output_type": "execute_result",
          "data": {
            "text/plain": [
              "133737"
            ]
          },
          "metadata": {
            "tags": []
          },
          "execution_count": 3
        }
      ]
    },
    {
      "cell_type": "code",
      "metadata": {
        "id": "1Mn4HfdUbqJ7",
        "outputId": "e302f2ba-6c77-4415-e6c7-576eb611a5f3",
        "colab": {
          "base_uri": "https://localhost:8080/"
        }
      },
      "source": [
        "entries[:50]"
      ],
      "execution_count": 4,
      "outputs": [
        {
          "output_type": "execute_result",
          "data": {
            "text/plain": [
              "[('a', ['AH0']),\n",
              " ('a.', ['EY1']),\n",
              " ('a', ['EY1']),\n",
              " ('a42128',\n",
              "  ['EY1',\n",
              "   'F',\n",
              "   'AO1',\n",
              "   'R',\n",
              "   'T',\n",
              "   'UW1',\n",
              "   'W',\n",
              "   'AH1',\n",
              "   'N',\n",
              "   'T',\n",
              "   'UW1',\n",
              "   'EY1',\n",
              "   'T']),\n",
              " ('aaa', ['T', 'R', 'IH2', 'P', 'AH0', 'L', 'EY1']),\n",
              " ('aaberg', ['AA1', 'B', 'ER0', 'G']),\n",
              " ('aachen', ['AA1', 'K', 'AH0', 'N']),\n",
              " ('aachener', ['AA1', 'K', 'AH0', 'N', 'ER0']),\n",
              " ('aaker', ['AA1', 'K', 'ER0']),\n",
              " ('aalseth', ['AA1', 'L', 'S', 'EH0', 'TH']),\n",
              " ('aamodt', ['AA1', 'M', 'AH0', 'T']),\n",
              " ('aancor', ['AA1', 'N', 'K', 'AO2', 'R']),\n",
              " ('aardema', ['AA0', 'R', 'D', 'EH1', 'M', 'AH0']),\n",
              " ('aardvark', ['AA1', 'R', 'D', 'V', 'AA2', 'R', 'K']),\n",
              " ('aaron', ['EH1', 'R', 'AH0', 'N']),\n",
              " (\"aaron's\", ['EH1', 'R', 'AH0', 'N', 'Z']),\n",
              " ('aarons', ['EH1', 'R', 'AH0', 'N', 'Z']),\n",
              " ('aaronson', ['EH1', 'R', 'AH0', 'N', 'S', 'AH0', 'N']),\n",
              " ('aaronson', ['AA1', 'R', 'AH0', 'N', 'S', 'AH0', 'N']),\n",
              " (\"aaronson's\", ['EH1', 'R', 'AH0', 'N', 'S', 'AH0', 'N', 'Z']),\n",
              " (\"aaronson's\", ['AA1', 'R', 'AH0', 'N', 'S', 'AH0', 'N', 'Z']),\n",
              " ('aarti', ['AA1', 'R', 'T', 'IY2']),\n",
              " ('aase', ['AA1', 'S']),\n",
              " ('aasen', ['AA1', 'S', 'AH0', 'N']),\n",
              " ('ab', ['AE1', 'B']),\n",
              " ('ab', ['EY1', 'B', 'IY1']),\n",
              " ('ababa', ['AH0', 'B', 'AA1', 'B', 'AH0']),\n",
              " ('ababa', ['AA1', 'B', 'AH0', 'B', 'AH0']),\n",
              " ('abacha', ['AE1', 'B', 'AH0', 'K', 'AH0']),\n",
              " ('aback', ['AH0', 'B', 'AE1', 'K']),\n",
              " ('abaco', ['AE1', 'B', 'AH0', 'K', 'OW2']),\n",
              " ('abacus', ['AE1', 'B', 'AH0', 'K', 'AH0', 'S']),\n",
              " ('abad', ['AH0', 'B', 'AA1', 'D']),\n",
              " ('abadaka', ['AH0', 'B', 'AE1', 'D', 'AH0', 'K', 'AH0']),\n",
              " ('abadi', ['AH0', 'B', 'AE1', 'D', 'IY0']),\n",
              " ('abadie', ['AH0', 'B', 'AE1', 'D', 'IY0']),\n",
              " ('abair', ['AH0', 'B', 'EH1', 'R']),\n",
              " ('abalkin', ['AH0', 'B', 'AA1', 'L', 'K', 'IH0', 'N']),\n",
              " ('abalone', ['AE2', 'B', 'AH0', 'L', 'OW1', 'N', 'IY0']),\n",
              " ('abalos', ['AA0', 'B', 'AA1', 'L', 'OW0', 'Z']),\n",
              " ('abandon', ['AH0', 'B', 'AE1', 'N', 'D', 'AH0', 'N']),\n",
              " ('abandoned', ['AH0', 'B', 'AE1', 'N', 'D', 'AH0', 'N', 'D']),\n",
              " ('abandoning', ['AH0', 'B', 'AE1', 'N', 'D', 'AH0', 'N', 'IH0', 'NG']),\n",
              " ('abandonment',\n",
              "  ['AH0', 'B', 'AE1', 'N', 'D', 'AH0', 'N', 'M', 'AH0', 'N', 'T']),\n",
              " ('abandonments',\n",
              "  ['AH0', 'B', 'AE1', 'N', 'D', 'AH0', 'N', 'M', 'AH0', 'N', 'T', 'S']),\n",
              " ('abandons', ['AH0', 'B', 'AE1', 'N', 'D', 'AH0', 'N', 'Z']),\n",
              " ('abanto', ['AH0', 'B', 'AE1', 'N', 'T', 'OW0']),\n",
              " ('abarca', ['AH0', 'B', 'AA1', 'R', 'K', 'AH0']),\n",
              " ('abare', ['AA0', 'B', 'AA1', 'R', 'IY0']),\n",
              " ('abascal', ['AE1', 'B', 'AH0', 'S', 'K', 'AH0', 'L'])]"
            ]
          },
          "metadata": {
            "tags": []
          },
          "execution_count": 4
        }
      ]
    },
    {
      "cell_type": "code",
      "metadata": {
        "id": "cQLisEKNbqKA",
        "outputId": "1c5f334f-f133-4747-fc14-be1a25faf77a",
        "colab": {
          "base_uri": "https://localhost:8080/"
        }
      },
      "source": [
        "nltk.download('wordnet')\n",
        "from nltk.corpus import wordnet as wn\n",
        "wn.synsets('motorcar')"
      ],
      "execution_count": 6,
      "outputs": [
        {
          "output_type": "stream",
          "text": [
            "[nltk_data] Downloading package wordnet to /root/nltk_data...\n",
            "[nltk_data]   Unzipping corpora/wordnet.zip.\n"
          ],
          "name": "stdout"
        },
        {
          "output_type": "execute_result",
          "data": {
            "text/plain": [
              "[Synset('car.n.01')]"
            ]
          },
          "metadata": {
            "tags": []
          },
          "execution_count": 6
        }
      ]
    },
    {
      "cell_type": "code",
      "metadata": {
        "id": "b57ooDtAbqKH",
        "outputId": "a1f9597d-5e81-4167-d5c2-51685e63bd55",
        "colab": {
          "base_uri": "https://localhost:8080/"
        }
      },
      "source": [
        "wn.synset('car.n.01').lemma_names()"
      ],
      "execution_count": 7,
      "outputs": [
        {
          "output_type": "execute_result",
          "data": {
            "text/plain": [
              "['car', 'auto', 'automobile', 'machine', 'motorcar']"
            ]
          },
          "metadata": {
            "tags": []
          },
          "execution_count": 7
        }
      ]
    },
    {
      "cell_type": "code",
      "metadata": {
        "id": "_Xy3oMhebqKR",
        "outputId": "61e1eff3-9bf7-4be4-f119-b9d8fd176665",
        "colab": {
          "base_uri": "https://localhost:8080/"
        }
      },
      "source": [
        "from nltk.corpus import wordnet as wn\n",
        "wn.synsets('good')"
      ],
      "execution_count": 8,
      "outputs": [
        {
          "output_type": "execute_result",
          "data": {
            "text/plain": [
              "[Synset('good.n.01'),\n",
              " Synset('good.n.02'),\n",
              " Synset('good.n.03'),\n",
              " Synset('commodity.n.01'),\n",
              " Synset('good.a.01'),\n",
              " Synset('full.s.06'),\n",
              " Synset('good.a.03'),\n",
              " Synset('estimable.s.02'),\n",
              " Synset('beneficial.s.01'),\n",
              " Synset('good.s.06'),\n",
              " Synset('good.s.07'),\n",
              " Synset('adept.s.01'),\n",
              " Synset('good.s.09'),\n",
              " Synset('dear.s.02'),\n",
              " Synset('dependable.s.04'),\n",
              " Synset('good.s.12'),\n",
              " Synset('good.s.13'),\n",
              " Synset('effective.s.04'),\n",
              " Synset('good.s.15'),\n",
              " Synset('good.s.16'),\n",
              " Synset('good.s.17'),\n",
              " Synset('good.s.18'),\n",
              " Synset('good.s.19'),\n",
              " Synset('good.s.20'),\n",
              " Synset('good.s.21'),\n",
              " Synset('well.r.01'),\n",
              " Synset('thoroughly.r.02')]"
            ]
          },
          "metadata": {
            "tags": []
          },
          "execution_count": 8
        }
      ]
    },
    {
      "cell_type": "code",
      "metadata": {
        "id": "yKBbh5FobqKY",
        "outputId": "e65881c8-fe17-4d58-a9b8-861582e1e1da",
        "colab": {
          "base_uri": "https://localhost:8080/"
        }
      },
      "source": [
        "from nltk.corpus import wordnet as wn\n",
        "wn.synsets('jargon')"
      ],
      "execution_count": 9,
      "outputs": [
        {
          "output_type": "execute_result",
          "data": {
            "text/plain": [
              "[Synset('slang.n.02'), Synset('jargoon.n.01'), Synset('jargon.n.03')]"
            ]
          },
          "metadata": {
            "tags": []
          },
          "execution_count": 9
        }
      ]
    },
    {
      "cell_type": "code",
      "metadata": {
        "id": "Dn5EpBdrbqKe",
        "outputId": "b800a878-b70b-4c3e-8ce6-fcd06247ddc3",
        "colab": {
          "base_uri": "https://localhost:8080/",
          "height": 35
        }
      },
      "source": [
        "import nltk\n",
        "from nltk.stem import PorterStemmer\n",
        "stemmerporter = PorterStemmer()\n",
        "stemmerporter.stem('happiness')"
      ],
      "execution_count": 10,
      "outputs": [
        {
          "output_type": "execute_result",
          "data": {
            "application/vnd.google.colaboratory.intrinsic+json": {
              "type": "string"
            },
            "text/plain": [
              "'happi'"
            ]
          },
          "metadata": {
            "tags": []
          },
          "execution_count": 10
        }
      ]
    },
    {
      "cell_type": "code",
      "metadata": {
        "id": "E894MYL4bqKm",
        "outputId": "e2f08c5a-637b-4fb2-b9bd-951cb79dd3f0",
        "colab": {
          "base_uri": "https://localhost:8080/",
          "height": 35
        }
      },
      "source": [
        "import nltk\n",
        "from nltk.stem import PorterStemmer\n",
        "stemmerporter = PorterStemmer()\n",
        "stemmerporter.stem('classes')"
      ],
      "execution_count": 11,
      "outputs": [
        {
          "output_type": "execute_result",
          "data": {
            "application/vnd.google.colaboratory.intrinsic+json": {
              "type": "string"
            },
            "text/plain": [
              "'class'"
            ]
          },
          "metadata": {
            "tags": []
          },
          "execution_count": 11
        }
      ]
    },
    {
      "cell_type": "code",
      "metadata": {
        "id": "5147UXSubqKu",
        "outputId": "aa30f674-99f2-496d-aefc-252730f6f4ca",
        "colab": {
          "base_uri": "https://localhost:8080/",
          "height": 35
        }
      },
      "source": [
        "import nltk\n",
        "from nltk.stem import LancasterStemmer\n",
        "stemmerLan = LancasterStemmer()\n",
        "stemmerLan.stem('happiness')"
      ],
      "execution_count": 12,
      "outputs": [
        {
          "output_type": "execute_result",
          "data": {
            "application/vnd.google.colaboratory.intrinsic+json": {
              "type": "string"
            },
            "text/plain": [
              "'happy'"
            ]
          },
          "metadata": {
            "tags": []
          },
          "execution_count": 12
        }
      ]
    },
    {
      "cell_type": "code",
      "metadata": {
        "id": "FshE99Q9bqKy",
        "outputId": "9a08b1ec-f71a-45cf-e2c6-6b49e5a05977",
        "colab": {
          "base_uri": "https://localhost:8080/",
          "height": 35
        }
      },
      "source": [
        "import nltk\n",
        "from nltk.stem import RegexpStemmer\n",
        "stemmerregexp = RegexpStemmer('ing')\n",
        "stemmerregexp.stem('reading')"
      ],
      "execution_count": 13,
      "outputs": [
        {
          "output_type": "execute_result",
          "data": {
            "application/vnd.google.colaboratory.intrinsic+json": {
              "type": "string"
            },
            "text/plain": [
              "'read'"
            ]
          },
          "metadata": {
            "tags": []
          },
          "execution_count": 13
        }
      ]
    },
    {
      "cell_type": "code",
      "metadata": {
        "id": "vq-tF2WVbqK2",
        "outputId": "a753d68e-bd73-42e2-88df-12bf03645e32",
        "colab": {
          "base_uri": "https://localhost:8080/",
          "height": 35
        }
      },
      "source": [
        "import nltk\n",
        "from nltk.stem import RegexpStemmer\n",
        "stemmerregexp = RegexpStemmer('ing')\n",
        "stemmerregexp.stem('ceiling')"
      ],
      "execution_count": 14,
      "outputs": [
        {
          "output_type": "execute_result",
          "data": {
            "application/vnd.google.colaboratory.intrinsic+json": {
              "type": "string"
            },
            "text/plain": [
              "'ceil'"
            ]
          },
          "metadata": {
            "tags": []
          },
          "execution_count": 14
        }
      ]
    },
    {
      "cell_type": "code",
      "metadata": {
        "id": "vlJPAEtybqK9",
        "outputId": "217a6b89-5df6-45be-d58b-32c5554c5b08",
        "colab": {
          "base_uri": "https://localhost:8080/",
          "height": 35
        }
      },
      "source": [
        "import nltk\n",
        "from nltk.stem import RegexpStemmer\n",
        "stemmerregexp = RegexpStemmer('ing')\n",
        "stemmerregexp.stem('singing')"
      ],
      "execution_count": 15,
      "outputs": [
        {
          "output_type": "execute_result",
          "data": {
            "application/vnd.google.colaboratory.intrinsic+json": {
              "type": "string"
            },
            "text/plain": [
              "'s'"
            ]
          },
          "metadata": {
            "tags": []
          },
          "execution_count": 15
        }
      ]
    },
    {
      "cell_type": "code",
      "metadata": {
        "id": "Fw_2uvB8bqLC",
        "outputId": "6fbe7243-a34d-48df-c341-2fa06bd77a56",
        "colab": {
          "base_uri": "https://localhost:8080/",
          "height": 35
        }
      },
      "source": [
        "import nltk\n",
        "from nltk.stem import SnowballStemmer\n",
        "SnowballStemmer.languages\n",
        "frenchStemmer = SnowballStemmer('french')\n",
        "frenchStemmer.stem('manges')"
      ],
      "execution_count": 16,
      "outputs": [
        {
          "output_type": "execute_result",
          "data": {
            "application/vnd.google.colaboratory.intrinsic+json": {
              "type": "string"
            },
            "text/plain": [
              "'mang'"
            ]
          },
          "metadata": {
            "tags": []
          },
          "execution_count": 16
        }
      ]
    },
    {
      "cell_type": "code",
      "metadata": {
        "id": "zGK51xKxbqLH",
        "outputId": "4a3b5b61-22c4-4c29-e958-3c398963792d",
        "colab": {
          "base_uri": "https://localhost:8080/"
        }
      },
      "source": [
        "from nltk.stem import PorterStemmer\n",
        "stemmer = PorterStemmer()\n",
        "example = 'The quick brown fox jumps over the lazy dog'\n",
        "example = [stemmer.stem(token) for token in example.split(\" \")]\n",
        "print(\" \".join(example))"
      ],
      "execution_count": 17,
      "outputs": [
        {
          "output_type": "stream",
          "text": [
            "the quick brown fox jump over the lazi dog\n"
          ],
          "name": "stdout"
        }
      ]
    },
    {
      "cell_type": "code",
      "metadata": {
        "id": "LK6wIncebqLP",
        "outputId": "32aa140b-faa7-4ce0-b73f-9d26b3220719",
        "colab": {
          "base_uri": "https://localhost:8080/"
        }
      },
      "source": [
        "from nltk.stem import PorterStemmer\n",
        "stemmer = PorterStemmer()\n",
        "example = 'Maam is teaching her fav class'\n",
        "example = [stemmer.stem(token) for token in example.split(\" \")]\n",
        "print(\" \".join(example))"
      ],
      "execution_count": 18,
      "outputs": [
        {
          "output_type": "stream",
          "text": [
            "maam is teach her fav class\n"
          ],
          "name": "stdout"
        }
      ]
    },
    {
      "cell_type": "code",
      "metadata": {
        "id": "uen1fnjVbqLX",
        "outputId": "eb2ac83c-1dad-4d17-b7c5-7d157855ed0a",
        "colab": {
          "base_uri": "https://localhost:8080/"
        }
      },
      "source": [
        "from nltk.stem import PorterStemmer\n",
        "stemmer = PorterStemmer()\n",
        "example = 'That girl is beautiful'\n",
        "example = [stemmer.stem(token) for token in example.split(\" \")]\n",
        "print(\" \".join(example))"
      ],
      "execution_count": 19,
      "outputs": [
        {
          "output_type": "stream",
          "text": [
            "that girl is beauti\n"
          ],
          "name": "stdout"
        }
      ]
    },
    {
      "cell_type": "code",
      "metadata": {
        "id": "ogYMkGuzbqLc",
        "outputId": "77c68a96-203d-4290-c99c-f1aa06106259",
        "colab": {
          "base_uri": "https://localhost:8080/"
        }
      },
      "source": [
        "!pip install jieba"
      ],
      "execution_count": 20,
      "outputs": [
        {
          "output_type": "stream",
          "text": [
            "Requirement already satisfied: jieba in /usr/local/lib/python3.6/dist-packages (0.42.1)\n"
          ],
          "name": "stdout"
        }
      ]
    },
    {
      "cell_type": "code",
      "metadata": {
        "id": "GsgrJGVObqLh"
      },
      "source": [
        "import jieba"
      ],
      "execution_count": 21,
      "outputs": []
    },
    {
      "cell_type": "code",
      "metadata": {
        "id": "-n0McZT7bqLm",
        "outputId": "f452ea59-6464-4be8-d578-383eb45355eb",
        "colab": {
          "base_uri": "https://localhost:8080/"
        }
      },
      "source": [
        "seg = jieba.cut(\"有一个姑娘叫姜嫄，她有一天觉得很空虚\", cut_all = True)\n",
        "print(\" \".join(seg))"
      ],
      "execution_count": 22,
      "outputs": [
        {
          "output_type": "stream",
          "text": [
            "Building prefix dict from the default dictionary ...\n",
            "Dumping model to file cache /tmp/jieba.cache\n",
            "Loading model cost 0.955 seconds.\n",
            "Prefix dict has been built successfully.\n"
          ],
          "name": "stderr"
        },
        {
          "output_type": "stream",
          "text": [
            "有 一个 姑娘 叫 姜 嫄 ， 她 有 一天 觉得 很 空虚\n"
          ],
          "name": "stdout"
        }
      ]
    }
  ]
}